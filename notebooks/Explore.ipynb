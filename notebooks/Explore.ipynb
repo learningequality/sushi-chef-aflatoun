{
 "cells": [
  {
   "cell_type": "code",
   "execution_count": 1,
   "metadata": {},
   "outputs": [],
   "source": [
    "import json\n",
    "import logging\n",
    "import os\n",
    "\n",
    "\n",
    "from aflatoun_chef import (\n",
    "    AFLATOUN_LICENSE,\n",
    "    AFLATOUN_CONTENT_BASE_DIR,\n",
    "    LANGUAGE_FOLDER_LOOKUP,\n",
    "    CONTENT_FOLDERS_FOR_LANG,\n",
    "    DATA_DIR,\n",
    "    TREES_DATA_DIR,\n",
    "    RICECOOKER_JSON_TREE)\n",
    "\n",
    "from aflatoun_chef import get_metadata_file_path, get_metadata\n",
    "from aflatoun_chef import build_ricecooker_json_tree\n",
    "    \n",
    "from aflatoun_chef import LOGGER\n",
    "LOGGER.addHandler(logging.StreamHandler())\n",
    "\n",
    "import pprint\n",
    "pp = pprint.PrettyPrinter(indent=4, width=80)"
   ]
  },
  {
   "cell_type": "code",
   "execution_count": null,
   "metadata": {
    "collapsed": true
   },
   "outputs": [],
   "source": [
    "# lang = 'fr'\n",
    "# lang_dir = LANGUAGE_FOLDER_LOOKUP[lang]\n",
    "\n",
    "# channel_base_dir = os.path.join(AFLATOUN_CONTENT_BASE_DIR, lang_dir)\n",
    "# content_folders = list(os.walk(channel_base_dir))\n",
    "\n",
    "# content_folders"
   ]
  },
  {
   "cell_type": "code",
   "execution_count": 2,
   "metadata": {},
   "outputs": [
    {
     "name": "stderr",
     "output_type": "stream",
     "text": [
      "Starting to build the ricecooker_json_tree\n",
      "processing folder content/aflatoun_tree/aflatoun/French/Les Séries Aflatoun\n",
      "processing folder content/aflatoun_tree/aflatoun/French/Les Séries Aflatoun/Plan de leçon 4ème niveau\n",
      "processing folder content/aflatoun_tree/aflatoun/French/Les Séries Aflatoun/Plan de leçon 4ème niveau/faafl41.1\n",
      "processing folder content/aflatoun_tree/aflatoun/French/Les Séries Aflatoun/Plan de leçon 4ème niveau/faafl41.2\n",
      "processing folder content/aflatoun_tree/aflatoun/French/Les Séries Aflatoun/Plan de leçon 4ème niveau/faafl41.3\n",
      "processing folder content/aflatoun_tree/aflatoun/French/Les Séries Aflatoun/Plan de leçon 4ème niveau/faafl41.4\n",
      "processing folder content/aflatoun_tree/aflatoun/French/Les Séries Aflatoun/Plan de leçon 4ème niveau/faafl41.5\n",
      "processing folder content/aflatoun_tree/aflatoun/French/Les Séries Aflatoun/Plan de leçon 4ème niveau/faafl41.6\n",
      "processing folder content/aflatoun_tree/aflatoun/French/Les Séries Aflatoun/Plan de leçon 4ème niveau/faafl42.1\n",
      "processing folder content/aflatoun_tree/aflatoun/French/Les Séries Aflatoun/Plan de leçon 4ème niveau/faafl42.2\n",
      "processing folder content/aflatoun_tree/aflatoun/French/Les Séries Aflatoun/Plan de leçon 4ème niveau/faafl42.3\n",
      "processing folder content/aflatoun_tree/aflatoun/French/Les Séries Aflatoun/Plan de leçon 4ème niveau/faafl42.4\n",
      "processing folder content/aflatoun_tree/aflatoun/French/Les Séries Aflatoun/Plan de leçon 4ème niveau/faafl43.1\n",
      "processing folder content/aflatoun_tree/aflatoun/French/Les Séries Aflatoun/Plan de leçon 4ème niveau/faafl43.2\n",
      "processing folder content/aflatoun_tree/aflatoun/French/Les Séries Aflatoun/Plan de leçon 4ème niveau/faafl43.3\n",
      "processing folder content/aflatoun_tree/aflatoun/French/Les Séries Aflatoun/Plan de leçon 4ème niveau/faafl43.4\n",
      "processing folder content/aflatoun_tree/aflatoun/French/Les Séries Aflatoun/Plan de leçon 4ème niveau/faafl43.5\n",
      "processing folder content/aflatoun_tree/aflatoun/French/Les Séries Aflatoun/Plan de leçon 4ème niveau/faafl44.1\n",
      "processing folder content/aflatoun_tree/aflatoun/French/Les Séries Aflatoun/Plan de leçon 4ème niveau/faafl44.2\n",
      "processing folder content/aflatoun_tree/aflatoun/French/Les Séries Aflatoun/Plan de leçon 4ème niveau/faafl44.3\n",
      "processing folder content/aflatoun_tree/aflatoun/French/Les Séries Aflatoun/Plan de leçon 4ème niveau/faafl44.4\n",
      "processing folder content/aflatoun_tree/aflatoun/French/Les Séries Aflatoun/Plan de leçon 4ème niveau/faafl44.5\n",
      "processing folder content/aflatoun_tree/aflatoun/French/Les Séries Aflatoun/Plan de leçon 4ème niveau/faafl44.6\n",
      "processing folder content/aflatoun_tree/aflatoun/French/Les Séries Aflatoun/Plan de leçon 4ème niveau/faafl44.7\n",
      "processing folder content/aflatoun_tree/aflatoun/French/Les Séries Aflatoun/Plan de leçon 5ème niveau\n",
      "processing folder content/aflatoun_tree/aflatoun/French/Les Séries Aflatoun/Plan de leçon 5ème niveau/faafl51.1\n",
      "processing folder content/aflatoun_tree/aflatoun/French/Les Séries Aflatoun/Plan de leçon 5ème niveau/faafl51.2\n",
      "processing folder content/aflatoun_tree/aflatoun/French/Les Séries Aflatoun/Plan de leçon 5ème niveau/faafl51.3\n",
      "processing folder content/aflatoun_tree/aflatoun/French/Les Séries Aflatoun/Plan de leçon 5ème niveau/faafl51.4\n",
      "processing folder content/aflatoun_tree/aflatoun/French/Les Séries Aflatoun/Plan de leçon 5ème niveau/faafl51.5\n",
      "processing folder content/aflatoun_tree/aflatoun/French/Les Séries Aflatoun/Plan de leçon 5ème niveau/faafl51.6\n",
      "processing folder content/aflatoun_tree/aflatoun/French/Les Séries Aflatoun/Plan de leçon 5ème niveau/faafl52.1\n",
      "processing folder content/aflatoun_tree/aflatoun/French/Les Séries Aflatoun/Plan de leçon 5ème niveau/faafl52.2\n",
      "processing folder content/aflatoun_tree/aflatoun/French/Les Séries Aflatoun/Plan de leçon 5ème niveau/faafl52.3\n",
      "processing folder content/aflatoun_tree/aflatoun/French/Les Séries Aflatoun/Plan de leçon 5ème niveau/faafl52.4\n",
      "processing folder content/aflatoun_tree/aflatoun/French/Les Séries Aflatoun/Plan de leçon 5ème niveau/faafl53.1\n",
      "processing folder content/aflatoun_tree/aflatoun/French/Les Séries Aflatoun/Plan de leçon 5ème niveau/faafl53.2\n",
      "processing folder content/aflatoun_tree/aflatoun/French/Les Séries Aflatoun/Plan de leçon 5ème niveau/faafl53.3\n",
      "processing folder content/aflatoun_tree/aflatoun/French/Les Séries Aflatoun/Plan de leçon 5ème niveau/faafl53.4\n",
      "processing folder content/aflatoun_tree/aflatoun/French/Les Séries Aflatoun/Plan de leçon 5ème niveau/faafl53.5\n",
      "processing folder content/aflatoun_tree/aflatoun/French/Les Séries Aflatoun/Plan de leçon 5ème niveau/faafl54.1\n",
      "processing folder content/aflatoun_tree/aflatoun/French/Les Séries Aflatoun/Plan de leçon 5ème niveau/faafl54.2\n",
      "processing folder content/aflatoun_tree/aflatoun/French/Les Séries Aflatoun/Plan de leçon 5ème niveau/faafl54.3\n",
      "processing folder content/aflatoun_tree/aflatoun/French/Les Séries Aflatoun/Plan de leçon 5ème niveau/faafl54.4\n",
      "processing folder content/aflatoun_tree/aflatoun/French/Les Séries Aflatoun/Plan de leçon 5ème niveau/faafl54.5\n",
      "processing folder content/aflatoun_tree/aflatoun/French/Les Séries Aflatoun/Plan de leçon 5ème niveau/faafl54.6\n",
      "processing folder content/aflatoun_tree/aflatoun/French/Les Séries Aflatoun/Plan de leçon 5ème niveau/faafl54.7\n",
      "processing folder content/aflatoun_tree/aflatoun/French/Manuel de Formation\n",
      "processing folder content/aflatoun_tree/aflatoun/French/Modules de support pour la formation continue\n",
      "processing folder content/aflatoun_tree/aflatoun/French/Modules de support pour la formation continue/01fr_les_origines_de_aflatoun\n",
      "processing folder content/aflatoun_tree/aflatoun/French/Modules de support pour la formation continue/02fr_les_clubs_dans_la_programme\n",
      "processing folder content/aflatoun_tree/aflatoun/French/Modules de support pour la formation continue/03fr_les_activities_programme_principal\n",
      "processing folder content/aflatoun_tree/aflatoun/French/Modules de support pour la formation continue/04fr_cde_la_qualite_de_leducation\n",
      "processing folder content/aflatoun_tree/aflatoun/French/Modules de support pour la formation continue/05fr_legalite_des_genres\n",
      "processing folder content/aflatoun_tree/aflatoun/French/Modules de support pour la formation continue/06fr_les_enfants_et_lespargne\n",
      "processing folder content/aflatoun_tree/aflatoun/French/Modules de support pour la formation continue/07fr_entreprises_sociales_financieres_des_enfants\n",
      "processing folder content/aflatoun_tree/aflatoun/French/Modules de support pour la formation continue/08fr_temps_de_parole_de_lenseignant\n",
      "processing folder content/aflatoun_tree/aflatoun/French/Modules de support pour la formation continue/09fr_brainstorming\n",
      "processing folder content/aflatoun_tree/aflatoun/French/Modules de support pour la formation continue/10fr_larbre_probleme\n",
      "processing folder content/aflatoun_tree/aflatoun/French/Modules de support pour la formation continue/11fr_theatre_image\n",
      "processing folder content/aflatoun_tree/aflatoun/French/Modules de support pour la formation continue/12fr_tableau_cva\n",
      "processing folder content/aflatoun_tree/aflatoun/French/Modules de support pour la formation continue/13fr_cartes_memoire\n",
      "processing folder content/aflatoun_tree/aflatoun/French/Modules de support pour la formation continue/14fr_travail_de_groupe\n",
      "Finished building ricecooker_json_tree\n",
      "Folder hierarchy walk result stored in chefdata/trees/ricecooker_json_tree.json\n"
     ]
    }
   ],
   "source": [
    "build_ricecooker_json_tree(None,{'lang':'fr'})\n"
   ]
  },
  {
   "cell_type": "code",
   "execution_count": 2,
   "metadata": {
    "collapsed": true
   },
   "outputs": [],
   "source": [
    "s = 'content/aflatoun_tree/aflatoun/French/Les Séries Aflatoun/Plan de leçon 4ème niveau/faafl44.4'\n",
    "      "
   ]
  },
  {
   "cell_type": "code",
   "execution_count": 4,
   "metadata": {},
   "outputs": [
    {
     "data": {
      "text/plain": [
       "['Les Séries Aflatoun', 'Plan de leçon 4ème niveau', 'faafl44.4']"
      ]
     },
     "execution_count": 4,
     "metadata": {},
     "output_type": "execute_result"
    }
   ],
   "source": [
    "s.split(os.path.sep)[4:]"
   ]
  },
  {
   "cell_type": "code",
   "execution_count": null,
   "metadata": {
    "collapsed": true
   },
   "outputs": [],
   "source": []
  }
 ],
 "metadata": {
  "kernelspec": {
   "display_name": "Python 3",
   "language": "python",
   "name": "python3"
  },
  "language_info": {
   "codemirror_mode": {
    "name": "ipython",
    "version": 3
   },
   "file_extension": ".py",
   "mimetype": "text/x-python",
   "name": "python",
   "nbconvert_exporter": "python",
   "pygments_lexer": "ipython3",
   "version": "3.6.1"
  }
 },
 "nbformat": 4,
 "nbformat_minor": 2
}
