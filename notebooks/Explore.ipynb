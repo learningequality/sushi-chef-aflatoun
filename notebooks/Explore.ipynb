{
 "cells": [
  {
   "cell_type": "code",
   "execution_count": 1,
   "metadata": {},
   "outputs": [],
   "source": [
    "import json\n",
    "import logging\n",
    "import os\n",
    "\n",
    "\n",
    "from aflatoun_chef import (\n",
    "    AFLATOUN_LICENSE,\n",
    "    AFLATOUN_CONTENT_BASE_DIR,\n",
    "    LANGUAGE_FOLDER_LOOKUP,\n",
    "    CONTENT_FOLDERS_FOR_LANG)\n",
    "\n",
    "from aflatoun_chef import get_metadata_file_path, get_metadata\n",
    "from aflatoun_chef import build_ricecooker_json_tree\n",
    "    \n",
    "from aflatoun_chef import LOGGER\n",
    "LOGGER.addHandler(logging.StreamHandler())\n",
    "\n",
    "import pprint\n",
    "pp = pprint.PrettyPrinter(indent=4, width=80)"
   ]
  },
  {
   "cell_type": "code",
   "execution_count": null,
   "metadata": {
    "collapsed": true
   },
   "outputs": [],
   "source": [
    "# lang = 'fr'\n",
    "# lang_dir = LANGUAGE_FOLDER_LOOKUP[lang]\n",
    "\n",
    "# channel_base_dir = os.path.join(AFLATOUN_CONTENT_BASE_DIR, lang_dir)\n",
    "# content_folders = list(os.walk(channel_base_dir))\n",
    "\n",
    "# content_folders"
   ]
  },
  {
   "cell_type": "code",
   "execution_count": 2,
   "metadata": {},
   "outputs": [
    {
     "name": "stderr",
     "output_type": "stream",
     "text": [
      "Starting to build the ricecooker_json_tree\n",
      "processing folder content/aflatoun_tree/aflatoun/French/Les Séries Aflatoun\n",
      "processing folder content/aflatoun_tree/aflatoun/French/Les Séries Aflatoun/Plan de leçon 4ème niveau\n",
      "processing folder content/aflatoun_tree/aflatoun/French/Les Séries Aflatoun/Plan de leçon 4ème niveau/faafl41.1\n",
      "processing folder content/aflatoun_tree/aflatoun/French/Les Séries Aflatoun/Plan de leçon 4ème niveau/faafl41.2\n",
      "processing folder content/aflatoun_tree/aflatoun/French/Les Séries Aflatoun/Plan de leçon 4ème niveau/faafl41.3\n",
      "processing folder content/aflatoun_tree/aflatoun/French/Les Séries Aflatoun/Plan de leçon 4ème niveau/faafl41.4\n",
      "processing folder content/aflatoun_tree/aflatoun/French/Les Séries Aflatoun/Plan de leçon 4ème niveau/faafl41.5\n",
      "processing folder content/aflatoun_tree/aflatoun/French/Les Séries Aflatoun/Plan de leçon 4ème niveau/faafl41.6\n",
      "processing folder content/aflatoun_tree/aflatoun/French/Les Séries Aflatoun/Plan de leçon 4ème niveau/faafl42.1\n",
      "processing folder content/aflatoun_tree/aflatoun/French/Les Séries Aflatoun/Plan de leçon 4ème niveau/faafl42.2\n",
      "processing folder content/aflatoun_tree/aflatoun/French/Les Séries Aflatoun/Plan de leçon 4ème niveau/faafl42.3\n",
      "processing folder content/aflatoun_tree/aflatoun/French/Les Séries Aflatoun/Plan de leçon 4ème niveau/faafl42.4\n",
      "processing folder content/aflatoun_tree/aflatoun/French/Les Séries Aflatoun/Plan de leçon 4ème niveau/faafl43.1\n",
      "processing folder content/aflatoun_tree/aflatoun/French/Les Séries Aflatoun/Plan de leçon 4ème niveau/faafl43.2\n",
      "processing folder content/aflatoun_tree/aflatoun/French/Les Séries Aflatoun/Plan de leçon 4ème niveau/faafl43.3\n",
      "processing folder content/aflatoun_tree/aflatoun/French/Les Séries Aflatoun/Plan de leçon 4ème niveau/faafl43.4\n",
      "processing folder content/aflatoun_tree/aflatoun/French/Les Séries Aflatoun/Plan de leçon 4ème niveau/faafl43.5\n",
      "processing folder content/aflatoun_tree/aflatoun/French/Les Séries Aflatoun/Plan de leçon 4ème niveau/faafl44.1\n",
      "processing folder content/aflatoun_tree/aflatoun/French/Les Séries Aflatoun/Plan de leçon 4ème niveau/faafl44.2\n",
      "processing folder content/aflatoun_tree/aflatoun/French/Les Séries Aflatoun/Plan de leçon 4ème niveau/faafl44.3\n",
      "processing folder content/aflatoun_tree/aflatoun/French/Les Séries Aflatoun/Plan de leçon 4ème niveau/faafl44.4\n",
      "processing folder content/aflatoun_tree/aflatoun/French/Les Séries Aflatoun/Plan de leçon 4ème niveau/faafl44.5\n",
      "processing folder content/aflatoun_tree/aflatoun/French/Les Séries Aflatoun/Plan de leçon 4ème niveau/faafl44.6\n",
      "processing folder content/aflatoun_tree/aflatoun/French/Les Séries Aflatoun/Plan de leçon 4ème niveau/faafl44.7\n",
      "processing folder content/aflatoun_tree/aflatoun/French/Les Séries Aflatoun/Plan de leçon 5ème niveau\n",
      "processing folder content/aflatoun_tree/aflatoun/French/Les Séries Aflatoun/Plan de leçon 5ème niveau/faafl51.1\n",
      "processing folder content/aflatoun_tree/aflatoun/French/Les Séries Aflatoun/Plan de leçon 5ème niveau/faafl51.2\n",
      "processing folder content/aflatoun_tree/aflatoun/French/Les Séries Aflatoun/Plan de leçon 5ème niveau/faafl51.3\n",
      "processing folder content/aflatoun_tree/aflatoun/French/Les Séries Aflatoun/Plan de leçon 5ème niveau/faafl51.4\n",
      "processing folder content/aflatoun_tree/aflatoun/French/Les Séries Aflatoun/Plan de leçon 5ème niveau/faafl51.5\n",
      "processing folder content/aflatoun_tree/aflatoun/French/Les Séries Aflatoun/Plan de leçon 5ème niveau/faafl51.6\n",
      "processing folder content/aflatoun_tree/aflatoun/French/Les Séries Aflatoun/Plan de leçon 5ème niveau/faafl52.1\n",
      "processing folder content/aflatoun_tree/aflatoun/French/Les Séries Aflatoun/Plan de leçon 5ème niveau/faafl52.2\n",
      "processing folder content/aflatoun_tree/aflatoun/French/Les Séries Aflatoun/Plan de leçon 5ème niveau/faafl52.3\n",
      "processing folder content/aflatoun_tree/aflatoun/French/Les Séries Aflatoun/Plan de leçon 5ème niveau/faafl52.4\n",
      "processing folder content/aflatoun_tree/aflatoun/French/Les Séries Aflatoun/Plan de leçon 5ème niveau/faafl53.1\n",
      "processing folder content/aflatoun_tree/aflatoun/French/Les Séries Aflatoun/Plan de leçon 5ème niveau/faafl53.2\n",
      "processing folder content/aflatoun_tree/aflatoun/French/Les Séries Aflatoun/Plan de leçon 5ème niveau/faafl53.3\n",
      "processing folder content/aflatoun_tree/aflatoun/French/Les Séries Aflatoun/Plan de leçon 5ème niveau/faafl53.4\n",
      "processing folder content/aflatoun_tree/aflatoun/French/Les Séries Aflatoun/Plan de leçon 5ème niveau/faafl53.5\n",
      "processing folder content/aflatoun_tree/aflatoun/French/Les Séries Aflatoun/Plan de leçon 5ème niveau/faafl54.1\n",
      "processing folder content/aflatoun_tree/aflatoun/French/Les Séries Aflatoun/Plan de leçon 5ème niveau/faafl54.2\n",
      "processing folder content/aflatoun_tree/aflatoun/French/Les Séries Aflatoun/Plan de leçon 5ème niveau/faafl54.3\n",
      "processing folder content/aflatoun_tree/aflatoun/French/Les Séries Aflatoun/Plan de leçon 5ème niveau/faafl54.4\n",
      "processing folder content/aflatoun_tree/aflatoun/French/Les Séries Aflatoun/Plan de leçon 5ème niveau/faafl54.5\n",
      "processing folder content/aflatoun_tree/aflatoun/French/Les Séries Aflatoun/Plan de leçon 5ème niveau/faafl54.6\n",
      "processing folder content/aflatoun_tree/aflatoun/French/Les Séries Aflatoun/Plan de leçon 5ème niveau/faafl54.7\n",
      "processing folder content/aflatoun_tree/aflatoun/French/Manuel de Formation\n",
      "processing folder content/aflatoun_tree/aflatoun/French/Modules de support pour la formation continue\n",
      "processing folder content/aflatoun_tree/aflatoun/French/Modules de support pour la formation continue/01fr_les_origines_de_aflatoun\n",
      "processing folder content/aflatoun_tree/aflatoun/French/Modules de support pour la formation continue/02fr_les_clubs_dans_la_programme\n",
      "processing folder content/aflatoun_tree/aflatoun/French/Modules de support pour la formation continue/03fr_les_activities_programme_principal\n",
      "processing folder content/aflatoun_tree/aflatoun/French/Modules de support pour la formation continue/04fr_cde_la_qualite_de_leducation\n",
      "processing folder content/aflatoun_tree/aflatoun/French/Modules de support pour la formation continue/05fr_legalite_des_genres\n",
      "processing folder content/aflatoun_tree/aflatoun/French/Modules de support pour la formation continue/06fr_les_enfants_et_lespargne\n",
      "processing folder content/aflatoun_tree/aflatoun/French/Modules de support pour la formation continue/07fr_entreprises_sociales_financieres_des_enfants\n",
      "processing folder content/aflatoun_tree/aflatoun/French/Modules de support pour la formation continue/08fr_temps_de_parole_de_lenseignant\n",
      "processing folder content/aflatoun_tree/aflatoun/French/Modules de support pour la formation continue/09fr_brainstorming\n",
      "processing folder content/aflatoun_tree/aflatoun/French/Modules de support pour la formation continue/10fr_larbre_probleme\n",
      "processing folder content/aflatoun_tree/aflatoun/French/Modules de support pour la formation continue/11fr_theatre_image\n",
      "processing folder content/aflatoun_tree/aflatoun/French/Modules de support pour la formation continue/12fr_tableau_cva\n",
      "processing folder content/aflatoun_tree/aflatoun/French/Modules de support pour la formation continue/13fr_cartes_memoire\n",
      "processing folder content/aflatoun_tree/aflatoun/French/Modules de support pour la formation continue/14fr_travail_de_groupe\n"
     ]
    },
    {
     "name": "stdout",
     "output_type": "stream",
     "text": [
      "content/aflatoun_tree/aflatoun/French/Les Séries Aflatoun/Plan de leçon 4ème niveau/faafl41.1/01faafl41.1qp.exercise.zip\n",
      "content/aflatoun_tree/aflatoun/French/Les Séries Aflatoun/Plan de leçon 4ème niveau/faafl41.1/03faafl41.1qr.exercise.zip\n",
      "content/aflatoun_tree/aflatoun/French/Les Séries Aflatoun/Plan de leçon 4ème niveau/faafl41.2/01faafl41.2qp.exercise.zip\n",
      "content/aflatoun_tree/aflatoun/French/Les Séries Aflatoun/Plan de leçon 4ème niveau/faafl41.2/03faafl41.2qr.exercise.zip\n",
      "content/aflatoun_tree/aflatoun/French/Les Séries Aflatoun/Plan de leçon 4ème niveau/faafl41.3/01faafl41.3qp.exercise.zip\n",
      "content/aflatoun_tree/aflatoun/French/Les Séries Aflatoun/Plan de leçon 4ème niveau/faafl41.3/03faafl41.3qr.exercise.zip\n",
      "content/aflatoun_tree/aflatoun/French/Les Séries Aflatoun/Plan de leçon 4ème niveau/faafl41.4/01faafl41.4qp.exercise.zip\n",
      "content/aflatoun_tree/aflatoun/French/Les Séries Aflatoun/Plan de leçon 4ème niveau/faafl41.4/03faafl41.4qr.exercise.zip\n",
      "content/aflatoun_tree/aflatoun/French/Les Séries Aflatoun/Plan de leçon 4ème niveau/faafl41.5/01faafl41.5qp.exercise.zip\n",
      "content/aflatoun_tree/aflatoun/French/Les Séries Aflatoun/Plan de leçon 4ème niveau/faafl41.5/03faafl41.5qr.exercise.zip\n",
      "content/aflatoun_tree/aflatoun/French/Les Séries Aflatoun/Plan de leçon 4ème niveau/faafl41.6/01faafl41.6qp.exercise.zip\n",
      "content/aflatoun_tree/aflatoun/French/Les Séries Aflatoun/Plan de leçon 4ème niveau/faafl41.6/03faafl41.6qr.exercise.zip\n",
      "content/aflatoun_tree/aflatoun/French/Les Séries Aflatoun/Plan de leçon 4ème niveau/faafl42.1/01faafl42.1qp.exercise.zip\n",
      "content/aflatoun_tree/aflatoun/French/Les Séries Aflatoun/Plan de leçon 4ème niveau/faafl42.1/03faafl42.1qr.exercise.zip\n",
      "content/aflatoun_tree/aflatoun/French/Les Séries Aflatoun/Plan de leçon 4ème niveau/faafl42.2/01faafl42.2qp.exercise.zip\n",
      "content/aflatoun_tree/aflatoun/French/Les Séries Aflatoun/Plan de leçon 4ème niveau/faafl42.2/03faafl42.2qr.exercise.zip\n",
      "content/aflatoun_tree/aflatoun/French/Les Séries Aflatoun/Plan de leçon 4ème niveau/faafl42.3/01faafl42.3qp.exercise.zip\n",
      "content/aflatoun_tree/aflatoun/French/Les Séries Aflatoun/Plan de leçon 4ème niveau/faafl42.3/03faafl42.3qr.exercise.zip\n",
      "content/aflatoun_tree/aflatoun/French/Les Séries Aflatoun/Plan de leçon 4ème niveau/faafl42.4/01faafl42.4qp.exercise.zip\n",
      "content/aflatoun_tree/aflatoun/French/Les Séries Aflatoun/Plan de leçon 4ème niveau/faafl42.4/03faafl42.4qr.exercise.zip\n",
      "content/aflatoun_tree/aflatoun/French/Les Séries Aflatoun/Plan de leçon 4ème niveau/faafl43.1/01faafl43.1qp.exercise.zip\n",
      "content/aflatoun_tree/aflatoun/French/Les Séries Aflatoun/Plan de leçon 4ème niveau/faafl43.1/03faafl43.1qr.exercise.zip\n",
      "content/aflatoun_tree/aflatoun/French/Les Séries Aflatoun/Plan de leçon 4ème niveau/faafl43.2/01faafl43.2qp.exercise.zip\n",
      "content/aflatoun_tree/aflatoun/French/Les Séries Aflatoun/Plan de leçon 4ème niveau/faafl43.2/03faafl43.2qr.exercise.zip\n",
      "content/aflatoun_tree/aflatoun/French/Les Séries Aflatoun/Plan de leçon 4ème niveau/faafl43.3/01faafl43.3qp.exercise.zip\n",
      "content/aflatoun_tree/aflatoun/French/Les Séries Aflatoun/Plan de leçon 4ème niveau/faafl43.3/03faafl43.3qr.exercise.zip\n",
      "content/aflatoun_tree/aflatoun/French/Les Séries Aflatoun/Plan de leçon 4ème niveau/faafl43.4/01faafl43.4qp.exercise.zip\n",
      "content/aflatoun_tree/aflatoun/French/Les Séries Aflatoun/Plan de leçon 4ème niveau/faafl43.4/03faafl43.4qr.exercise.zip\n",
      "content/aflatoun_tree/aflatoun/French/Les Séries Aflatoun/Plan de leçon 4ème niveau/faafl43.5/01faafl43.5qp.exercise.zip\n",
      "content/aflatoun_tree/aflatoun/French/Les Séries Aflatoun/Plan de leçon 4ème niveau/faafl43.5/03faafl43.5qr.exercise.zip\n",
      "content/aflatoun_tree/aflatoun/French/Les Séries Aflatoun/Plan de leçon 4ème niveau/faafl44.1/01faafl44.1qp.exercise.zip\n",
      "content/aflatoun_tree/aflatoun/French/Les Séries Aflatoun/Plan de leçon 4ème niveau/faafl44.1/03faafl44.1qr.exercise.zip\n",
      "content/aflatoun_tree/aflatoun/French/Les Séries Aflatoun/Plan de leçon 4ème niveau/faafl44.2/01faafl44.2qp.exercise.zip\n",
      "content/aflatoun_tree/aflatoun/French/Les Séries Aflatoun/Plan de leçon 4ème niveau/faafl44.2/03faafl44.2qr.exercise.zip\n",
      "content/aflatoun_tree/aflatoun/French/Les Séries Aflatoun/Plan de leçon 4ème niveau/faafl44.3/01faafl44.3qp.exercise.zip\n",
      "content/aflatoun_tree/aflatoun/French/Les Séries Aflatoun/Plan de leçon 4ème niveau/faafl44.3/03faafl44.3qr.exercise.zip\n",
      "content/aflatoun_tree/aflatoun/French/Les Séries Aflatoun/Plan de leçon 4ème niveau/faafl44.4/01faafl44.4qp.exercise.zip\n",
      "content/aflatoun_tree/aflatoun/French/Les Séries Aflatoun/Plan de leçon 4ème niveau/faafl44.4/03faafl44.4qr.exercise.zip\n",
      "content/aflatoun_tree/aflatoun/French/Les Séries Aflatoun/Plan de leçon 4ème niveau/faafl44.5/01faafl44.5qp.exercise.zip\n",
      "content/aflatoun_tree/aflatoun/French/Les Séries Aflatoun/Plan de leçon 4ème niveau/faafl44.5/03faafl44.5qr.exercise.zip\n",
      "content/aflatoun_tree/aflatoun/French/Les Séries Aflatoun/Plan de leçon 4ème niveau/faafl44.6/01faafl44.6qp.exercise.zip\n",
      "content/aflatoun_tree/aflatoun/French/Les Séries Aflatoun/Plan de leçon 4ème niveau/faafl44.6/03faafl44.6qr.exercise.zip\n",
      "content/aflatoun_tree/aflatoun/French/Les Séries Aflatoun/Plan de leçon 4ème niveau/faafl44.7/01faafl44.7qp.exercise.zip\n",
      "content/aflatoun_tree/aflatoun/French/Les Séries Aflatoun/Plan de leçon 4ème niveau/faafl44.7/03faafl44.7qr.exercise.zip\n",
      "content/aflatoun_tree/aflatoun/French/Les Séries Aflatoun/Plan de leçon 5ème niveau/faafl51.1/01faafl51.1qp.exercise.zip\n",
      "content/aflatoun_tree/aflatoun/French/Les Séries Aflatoun/Plan de leçon 5ème niveau/faafl51.1/03faafl51.1qr.exercise.zip\n",
      "content/aflatoun_tree/aflatoun/French/Les Séries Aflatoun/Plan de leçon 5ème niveau/faafl51.2/01faafl51.2qp.exercise.zip\n",
      "content/aflatoun_tree/aflatoun/French/Les Séries Aflatoun/Plan de leçon 5ème niveau/faafl51.2/03faafl51.2qr.exercise.zip\n",
      "content/aflatoun_tree/aflatoun/French/Les Séries Aflatoun/Plan de leçon 5ème niveau/faafl51.3/01faafl51.3qp.exercise.zip\n",
      "content/aflatoun_tree/aflatoun/French/Les Séries Aflatoun/Plan de leçon 5ème niveau/faafl51.3/03faafl51.3qr.exercise.zip\n",
      "content/aflatoun_tree/aflatoun/French/Les Séries Aflatoun/Plan de leçon 5ème niveau/faafl51.4/01faafl51.4qp.exercise.zip\n",
      "content/aflatoun_tree/aflatoun/French/Les Séries Aflatoun/Plan de leçon 5ème niveau/faafl51.4/03faafl51.4qr.exercise.zip\n",
      "content/aflatoun_tree/aflatoun/French/Les Séries Aflatoun/Plan de leçon 5ème niveau/faafl51.5/01faafl51.5qp.exercise.zip\n",
      "content/aflatoun_tree/aflatoun/French/Les Séries Aflatoun/Plan de leçon 5ème niveau/faafl51.5/03faafl51.5qr.exercise.zip\n",
      "content/aflatoun_tree/aflatoun/French/Les Séries Aflatoun/Plan de leçon 5ème niveau/faafl51.6/01faafl51.6qp.exercise.zip\n",
      "content/aflatoun_tree/aflatoun/French/Les Séries Aflatoun/Plan de leçon 5ème niveau/faafl51.6/03faafl51.6qr.exercise.zip\n",
      "content/aflatoun_tree/aflatoun/French/Les Séries Aflatoun/Plan de leçon 5ème niveau/faafl52.1/01faafl52.1qp.exercise.zip\n",
      "content/aflatoun_tree/aflatoun/French/Les Séries Aflatoun/Plan de leçon 5ème niveau/faafl52.1/03faafl52.1qr.exercise.zip\n",
      "content/aflatoun_tree/aflatoun/French/Les Séries Aflatoun/Plan de leçon 5ème niveau/faafl52.2/01faafl52.2qp.exercise.zip\n",
      "content/aflatoun_tree/aflatoun/French/Les Séries Aflatoun/Plan de leçon 5ème niveau/faafl52.2/03faafl52.2qr.exercise.zip\n",
      "content/aflatoun_tree/aflatoun/French/Les Séries Aflatoun/Plan de leçon 5ème niveau/faafl52.3/01faafl52.3qp.exercise.zip\n",
      "content/aflatoun_tree/aflatoun/French/Les Séries Aflatoun/Plan de leçon 5ème niveau/faafl52.3/03faafl52.3qr.exercise.zip\n",
      "content/aflatoun_tree/aflatoun/French/Les Séries Aflatoun/Plan de leçon 5ème niveau/faafl52.4/01faafl52.4qp.exercise.zip\n",
      "content/aflatoun_tree/aflatoun/French/Les Séries Aflatoun/Plan de leçon 5ème niveau/faafl52.4/03faafl52.4qr.exercise.zip\n",
      "content/aflatoun_tree/aflatoun/French/Les Séries Aflatoun/Plan de leçon 5ème niveau/faafl53.1/01faafl53.1qp.exercise.zip\n",
      "content/aflatoun_tree/aflatoun/French/Les Séries Aflatoun/Plan de leçon 5ème niveau/faafl53.1/03faafl53.1qr.exercise.zip\n",
      "content/aflatoun_tree/aflatoun/French/Les Séries Aflatoun/Plan de leçon 5ème niveau/faafl53.2/01faafl53.2qp.exercise.zip\n",
      "content/aflatoun_tree/aflatoun/French/Les Séries Aflatoun/Plan de leçon 5ème niveau/faafl53.2/03faafl53.2qr.exercise.zip\n",
      "content/aflatoun_tree/aflatoun/French/Les Séries Aflatoun/Plan de leçon 5ème niveau/faafl53.3/01faafl53.3qp.exercise.zip\n",
      "content/aflatoun_tree/aflatoun/French/Les Séries Aflatoun/Plan de leçon 5ème niveau/faafl53.3/03faafl53.3qr.exercise.zip\n",
      "content/aflatoun_tree/aflatoun/French/Les Séries Aflatoun/Plan de leçon 5ème niveau/faafl53.4/01faafl53.4qp.exercise.zip\n",
      "content/aflatoun_tree/aflatoun/French/Les Séries Aflatoun/Plan de leçon 5ème niveau/faafl53.4/03faafl53.4qr.exercise.zip\n",
      "content/aflatoun_tree/aflatoun/French/Les Séries Aflatoun/Plan de leçon 5ème niveau/faafl53.5/01faafl53.5qp.exercise.zip\n",
      "content/aflatoun_tree/aflatoun/French/Les Séries Aflatoun/Plan de leçon 5ème niveau/faafl53.5/03faafl53.5qr.exercise.zip\n",
      "content/aflatoun_tree/aflatoun/French/Les Séries Aflatoun/Plan de leçon 5ème niveau/faafl54.1/01faafl54.1qp.exercise.zip\n",
      "content/aflatoun_tree/aflatoun/French/Les Séries Aflatoun/Plan de leçon 5ème niveau/faafl54.1/03faafl54.1qr.exercise.zip\n",
      "content/aflatoun_tree/aflatoun/French/Les Séries Aflatoun/Plan de leçon 5ème niveau/faafl54.2/01faafl54.2qp.exercise.zip\n",
      "content/aflatoun_tree/aflatoun/French/Les Séries Aflatoun/Plan de leçon 5ème niveau/faafl54.2/03faafl54.2qr.exercise.zip\n",
      "content/aflatoun_tree/aflatoun/French/Les Séries Aflatoun/Plan de leçon 5ème niveau/faafl54.3/01faafl54.3qp.exercise.zip\n",
      "content/aflatoun_tree/aflatoun/French/Les Séries Aflatoun/Plan de leçon 5ème niveau/faafl54.3/03faafl54.3qr.exercise.zip\n",
      "content/aflatoun_tree/aflatoun/French/Les Séries Aflatoun/Plan de leçon 5ème niveau/faafl54.4/01faafl54.4qp.exercise.zip\n",
      "content/aflatoun_tree/aflatoun/French/Les Séries Aflatoun/Plan de leçon 5ème niveau/faafl54.4/03faafl54.4qr.exercise.zip\n",
      "content/aflatoun_tree/aflatoun/French/Les Séries Aflatoun/Plan de leçon 5ème niveau/faafl54.5/01faafl54.5qp.exercise.zip\n",
      "content/aflatoun_tree/aflatoun/French/Les Séries Aflatoun/Plan de leçon 5ème niveau/faafl54.5/03faafl54.5qr.exercise.zip\n",
      "content/aflatoun_tree/aflatoun/French/Les Séries Aflatoun/Plan de leçon 5ème niveau/faafl54.6/01faafl54.6qp.exercise.zip\n",
      "content/aflatoun_tree/aflatoun/French/Les Séries Aflatoun/Plan de leçon 5ème niveau/faafl54.6/03faafl54.6qr.exercise.zip\n",
      "content/aflatoun_tree/aflatoun/French/Modules de support pour la formation continue/01fr_les_origines_de_aflatoun/03_fr01_quiz_part1.exercise.zip\n",
      "content/aflatoun_tree/aflatoun/French/Modules de support pour la formation continue/01fr_les_origines_de_aflatoun/05_fr01_quiz_part2.exercise.zip\n",
      "content/aflatoun_tree/aflatoun/French/Modules de support pour la formation continue/02fr_les_clubs_dans_la_programme/03_fr02_quiz_part1.exercise.zip\n",
      "content/aflatoun_tree/aflatoun/French/Modules de support pour la formation continue/02fr_les_clubs_dans_la_programme/05_fr02_quiz_part2.exercise.zip\n",
      "content/aflatoun_tree/aflatoun/French/Modules de support pour la formation continue/02fr_les_clubs_dans_la_programme/07_fr02_quiz_part3.exercise.zip\n",
      "content/aflatoun_tree/aflatoun/French/Modules de support pour la formation continue/02fr_les_clubs_dans_la_programme/09_fr02_quiz_part4.exercise.zip\n",
      "content/aflatoun_tree/aflatoun/French/Modules de support pour la formation continue/02fr_les_clubs_dans_la_programme/11_fr02_quiz_part5.exercise.zip\n",
      "content/aflatoun_tree/aflatoun/French/Modules de support pour la formation continue/03fr_les_activities_programme_principal/03_fr03_quiz_part1.exercise.zip\n",
      "content/aflatoun_tree/aflatoun/French/Modules de support pour la formation continue/03fr_les_activities_programme_principal/05_fr03_quiz_part2.exercise.zip\n",
      "content/aflatoun_tree/aflatoun/French/Modules de support pour la formation continue/03fr_les_activities_programme_principal/07_fr03_quiz_part3.exercise.zip\n",
      "content/aflatoun_tree/aflatoun/French/Modules de support pour la formation continue/04fr_cde_la_qualite_de_leducation/03_fr04_quiz_part1.exercise.zip\n",
      "content/aflatoun_tree/aflatoun/French/Modules de support pour la formation continue/04fr_cde_la_qualite_de_leducation/05_fr04_quiz_part2.exercise.zip\n",
      "content/aflatoun_tree/aflatoun/French/Modules de support pour la formation continue/04fr_cde_la_qualite_de_leducation/07_fr04_quiz_part3.exercise.zip\n",
      "content/aflatoun_tree/aflatoun/French/Modules de support pour la formation continue/05fr_legalite_des_genres/03_fa05_quiz_part1.exercise.zip\n",
      "content/aflatoun_tree/aflatoun/French/Modules de support pour la formation continue/05fr_legalite_des_genres/04_fa05_quiz_part2.exercise.zip\n",
      "content/aflatoun_tree/aflatoun/French/Modules de support pour la formation continue/05fr_legalite_des_genres/05_fa05_quiz_part3.exercise.zip\n",
      "content/aflatoun_tree/aflatoun/French/Modules de support pour la formation continue/05fr_legalite_des_genres/07_fa05_quiz_part4.exercise.zip\n",
      "content/aflatoun_tree/aflatoun/French/Modules de support pour la formation continue/06fr_les_enfants_et_lespargne/03_fr06_quiz_part1.exercise.zip\n",
      "content/aflatoun_tree/aflatoun/French/Modules de support pour la formation continue/06fr_les_enfants_et_lespargne/05_fr06_quiz_part2.exercise.zip\n",
      "content/aflatoun_tree/aflatoun/French/Modules de support pour la formation continue/06fr_les_enfants_et_lespargne/07_fr06_quiz_part3.exercise.zip\n",
      "content/aflatoun_tree/aflatoun/French/Modules de support pour la formation continue/06fr_les_enfants_et_lespargne/09_fr06_quiz_part4.exercise.zip\n",
      "content/aflatoun_tree/aflatoun/French/Modules de support pour la formation continue/07fr_entreprises_sociales_financieres_des_enfants/03_fr07_quiz_part1.exercise.zip\n",
      "content/aflatoun_tree/aflatoun/French/Modules de support pour la formation continue/07fr_entreprises_sociales_financieres_des_enfants/05_fr07_quiz_part2.exercise.zip\n",
      "content/aflatoun_tree/aflatoun/French/Modules de support pour la formation continue/07fr_entreprises_sociales_financieres_des_enfants/07_fr07_quiz_part3.exercise.zip\n",
      "content/aflatoun_tree/aflatoun/French/Modules de support pour la formation continue/08fr_temps_de_parole_de_lenseignant/03_fr08_quiz_part1.exercise.zip\n",
      "content/aflatoun_tree/aflatoun/French/Modules de support pour la formation continue/08fr_temps_de_parole_de_lenseignant/05_fr08_quiz_part2.exercise.zip\n",
      "content/aflatoun_tree/aflatoun/French/Modules de support pour la formation continue/08fr_temps_de_parole_de_lenseignant/07_fr08_quiz_part3.exercise.zip\n",
      "content/aflatoun_tree/aflatoun/French/Modules de support pour la formation continue/09fr_brainstorming/03_fr09_quiz_part1.exercise.zip\n",
      "content/aflatoun_tree/aflatoun/French/Modules de support pour la formation continue/09fr_brainstorming/05_fr09_quiz_part2.exercise.zip\n",
      "content/aflatoun_tree/aflatoun/French/Modules de support pour la formation continue/09fr_brainstorming/07_fr09_quiz_part3.exercise.zip\n",
      "content/aflatoun_tree/aflatoun/French/Modules de support pour la formation continue/09fr_brainstorming/08_fr09_quiz_part4.exercise.zip\n",
      "content/aflatoun_tree/aflatoun/French/Modules de support pour la formation continue/10fr_larbre_probleme/03_fr10_quiz_part1.exercise.zip\n",
      "content/aflatoun_tree/aflatoun/French/Modules de support pour la formation continue/10fr_larbre_probleme/05_fr10_quiz_part2.exercise.zip\n",
      "content/aflatoun_tree/aflatoun/French/Modules de support pour la formation continue/10fr_larbre_probleme/07_fr10_quiz_part3.exercise.zip\n",
      "content/aflatoun_tree/aflatoun/French/Modules de support pour la formation continue/10fr_larbre_probleme/09_fr10_quiz_part4.exercise.zip\n",
      "content/aflatoun_tree/aflatoun/French/Modules de support pour la formation continue/11fr_theatre_image/03_fr11_quiz_part1.exercise.zip\n",
      "content/aflatoun_tree/aflatoun/French/Modules de support pour la formation continue/11fr_theatre_image/04_fr11_quiz_part2.exercise.zip\n",
      "content/aflatoun_tree/aflatoun/French/Modules de support pour la formation continue/11fr_theatre_image/06_fr11_quiz_part3.exercise.zip\n",
      "content/aflatoun_tree/aflatoun/French/Modules de support pour la formation continue/11fr_theatre_image/08_fr11_quiz_part4.exercise.zip\n",
      "content/aflatoun_tree/aflatoun/French/Modules de support pour la formation continue/12fr_tableau_cva/03_fr12_quiz_part1.exercise.zip\n",
      "content/aflatoun_tree/aflatoun/French/Modules de support pour la formation continue/12fr_tableau_cva/05_fr12_quiz_part2.exercise.zip\n",
      "content/aflatoun_tree/aflatoun/French/Modules de support pour la formation continue/12fr_tableau_cva/06_fr12_quiz_part3.exercise.zip\n",
      "content/aflatoun_tree/aflatoun/French/Modules de support pour la formation continue/13fr_cartes_memoire/03_fr13_quiz_part1.exercise.zip\n",
      "content/aflatoun_tree/aflatoun/French/Modules de support pour la formation continue/13fr_cartes_memoire/04_fr13_quiz_part2.exercise.zip\n",
      "content/aflatoun_tree/aflatoun/French/Modules de support pour la formation continue/13fr_cartes_memoire/06_fr13_quiz_part3.exercise.zip\n",
      "content/aflatoun_tree/aflatoun/French/Modules de support pour la formation continue/14fr_travail_de_groupe/03_fr14_quiz_part1.exercise.zip\n",
      "content/aflatoun_tree/aflatoun/French/Modules de support pour la formation continue/14fr_travail_de_groupe/05_fr14_quiz_part2.exercise.zip\n"
     ]
    }
   ],
   "source": [
    "build_ricecooker_json_tree(None,{'lang':'fr'}, '/tmp/yo.json')\n"
   ]
  },
  {
   "cell_type": "code",
   "execution_count": 2,
   "metadata": {
    "collapsed": true
   },
   "outputs": [],
   "source": []
  },
  {
   "cell_type": "code",
   "execution_count": 13,
   "metadata": {},
   "outputs": [],
   "source": [
    "ex_path = 'content/aflatoun_tree/aflatoun/French/Les Séries Aflatoun/Plan de leçon 4ème niveau/faafl44.4/03faafl44.4qr.exercise.zip'\n",
    "ex_path = 'content/aflatoun_tree/aflatoun/French/Les Séries Aflatoun/Plan de leçon 4ème niveau/faafl41.1/03faafl41.1qr.exercise.zip'\n",
    "ex_path = 'content/aflatoun_tree/aflatoun/French/Les Séries Aflatoun/Plan de leçon 4ème niveau/faafl43.5/01faafl43.5qp.exercise.zip'"
   ]
  },
  {
   "cell_type": "code",
   "execution_count": 41,
   "metadata": {},
   "outputs": [
    {
     "name": "stdout",
     "output_type": "stream",
     "text": [
      "{'title': '01faafl43.5qp', 'description': 'Quiz de préparation', 'all_assessment_items': [425, 426, 427, 428]}\n"
     ]
    },
    {
     "data": {
      "text/plain": [
       "{'answerArea': {'calculator': False,\n",
       "  'options': {'content': '', 'images': {}, 'widgets': {}},\n",
       "  'periodicTable': False,\n",
       "  'type': 'multiple'},\n",
       " 'hints': [],\n",
       " 'itemDataVersion': {'major': 0, 'minor': 1},\n",
       " 'question': {'content': 'Les arbres peuvent empêcher les inondations.\\n\\n\\n[[☃ radio 1]]',\n",
       "  'images': {},\n",
       "  'widgets': {'radio 1': {'graded': True,\n",
       "    'options': {'choices': [{'content': 'Vrai \\n', 'correct': True},\n",
       "      {'content': 'Faux\\n', 'correct': False}],\n",
       "     'deselectEnabled': False,\n",
       "     'displayCount': None,\n",
       "     'hasNoneOfTheAbove': False,\n",
       "     'multipleSelect': False,\n",
       "     'onePerLine': True,\n",
       "     'randomize': True},\n",
       "    'type': 'radio',\n",
       "    'version': {'major': 1, 'minor': 0}}}}}"
      ]
     },
     "execution_count": 41,
     "metadata": {},
     "output_type": "execute_result"
    }
   ],
   "source": [
    "import zipfile\n",
    "archive = zipfile.ZipFile(ex_path, 'r')\n",
    "#\n",
    "json_bytes = archive.read('exercise.json')\n",
    "exercise_json = json.loads(json_bytes)\n",
    "print(exercise_json)\n",
    "#\n",
    "json_bytes = archive.read('assessment_items.json')\n",
    "questions = json.loads(json_bytes)\n",
    "len(questions)\n",
    "questions[0]\n"
   ]
  },
  {
   "cell_type": "code",
   "execution_count": 33,
   "metadata": {},
   "outputs": [
    {
     "data": {
      "text/plain": [
       "'content/aflatoun_tree/aflatoun/French/Les Séries Aflatoun/Plan de leçon 4ème niveau/faafl43.5/01faafl43.5qp.exercise.zip'"
      ]
     },
     "execution_count": 33,
     "metadata": {},
     "output_type": "execute_result"
    }
   ],
   "source": [
    "ex_path"
   ]
  },
  {
   "cell_type": "code",
   "execution_count": null,
   "metadata": {},
   "outputs": [],
   "source": []
  },
  {
   "cell_type": "code",
   "execution_count": 75,
   "metadata": {},
   "outputs": [],
   "source": []
  },
  {
   "cell_type": "code",
   "execution_count": 76,
   "metadata": {},
   "outputs": [
    {
     "name": "stdout",
     "output_type": "stream",
     "text": [
      "{'title': '01faafl43.5qp', 'description': 'Quiz de préparation', 'all_assessment_items': [425, 426, 427, 428]}\n"
     ]
    },
    {
     "data": {
      "text/plain": [
       "{'answers': [{'answer': 'Vrai', 'correct': True},\n",
       "  {'answer': 'Faux', 'correct': False}],\n",
       " 'files': [],\n",
       " 'hints': [],\n",
       " 'id': UUID('78f2aa2b-67f4-5b6e-8b5a-7051883b813b'),\n",
       " 'question': 'Les arbres contribuent à ce que l’air reste pur.',\n",
       " 'question_type': 'single_selection',\n",
       " 'randomize': False,\n",
       " 'raw_data': '',\n",
       " 'source_id': '426',\n",
       " 'source_url': None}"
      ]
     },
     "execution_count": 76,
     "metadata": {},
     "output_type": "execute_result"
    }
   ],
   "source": [
    "# exercise_json\n",
    "exercise_zip_to_dict(ex_path)['questions'][1].__dict__"
   ]
  },
  {
   "cell_type": "code",
   "execution_count": 31,
   "metadata": {},
   "outputs": [
    {
     "data": {
      "text/plain": [
       "{'answers': [{'answer': 'Vrai', 'correct': True},\n",
       "  {'answer': 'Faux', 'correct': False}],\n",
       " 'files': [],\n",
       " 'hints': [],\n",
       " 'id': UUID('d8c7084c-3be4-5636-8168-d3b438c920d1'),\n",
       " 'question': 'Les arbres se parlent la nuit.',\n",
       " 'question_type': 'single_selection',\n",
       " 'randomize': False,\n",
       " 'raw_data': '',\n",
       " 'source_id': 'aa',\n",
       " 'source_url': None}"
      ]
     },
     "execution_count": 31,
     "metadata": {},
     "output_type": "execute_result"
    }
   ],
   "source": [
    "q.__dict__"
   ]
  },
  {
   "cell_type": "code",
   "execution_count": 32,
   "metadata": {},
   "outputs": [
    {
     "data": {
      "text/plain": [
       "('faafl43.5qp.exercise', '.zip')"
      ]
     },
     "execution_count": 32,
     "metadata": {},
     "output_type": "execute_result"
    }
   ],
   "source": [
    "os.path.splitext('faafl43.5qp.exercise.zip')"
   ]
  },
  {
   "cell_type": "code",
   "execution_count": 62,
   "metadata": {},
   "outputs": [],
   "source": [
    "SingleSelectQuestion?"
   ]
  },
  {
   "cell_type": "code",
   "execution_count": 77,
   "metadata": {},
   "outputs": [],
   "source": [
    "from ricecooker.classes.nodes import ExerciseNode"
   ]
  },
  {
   "cell_type": "code",
   "execution_count": 78,
   "metadata": {},
   "outputs": [],
   "source": [
    "ExerciseNode?"
   ]
  },
  {
   "cell_type": "code",
   "execution_count": null,
   "metadata": {},
   "outputs": [],
   "source": []
  }
 ],
 "metadata": {
  "kernelspec": {
   "display_name": "Python 3",
   "language": "python",
   "name": "python3"
  },
  "language_info": {
   "codemirror_mode": {
    "name": "ipython",
    "version": 3
   },
   "file_extension": ".py",
   "mimetype": "text/x-python",
   "name": "python",
   "nbconvert_exporter": "python",
   "pygments_lexer": "ipython3",
   "version": "3.6.2"
  }
 },
 "nbformat": 4,
 "nbformat_minor": 2
}
